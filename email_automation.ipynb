{
 "cells": [
  {
   "cell_type": "code",
   "execution_count": 2,
   "id": "d9412617-a50d-423f-ad17-11fddcd81a52",
   "metadata": {},
   "outputs": [
    {
     "name": "stderr",
     "output_type": "stream",
     "text": [
      "ERROR: Could not find a version that satisfies the requirement smtplib (from versions: none)\n",
      "ERROR: No matching distribution found for smtplib\n"
     ]
    }
   ],
   "source": [
    "##Email automation using Python is a great project that allows you to send emails automatically\n",
    "\n",
    "!pip install smtplib email mime dotenv\n"
   ]
  },
  {
   "cell_type": "code",
   "execution_count": 4,
   "id": "72aefe43-ad2a-4a15-a6dd-f5996c31b139",
   "metadata": {},
   "outputs": [],
   "source": [
    "import smtplib\n",
    "from email.mime.multipart import MIMEMultipart\n",
    "from email.mime.text import MIMEText\n"
   ]
  },
  {
   "cell_type": "code",
   "execution_count": 6,
   "id": "427842e8-ee20-4d45-a54f-e0345943f4a7",
   "metadata": {},
   "outputs": [],
   "source": [
    "# Replace with your credentials\n",
    "SENDER_EMAIL = \"captaing250000@gmail.com\"  # Your email\n",
    "SENDER_PASSWORD = \"okmv lpsg xmld ywlt\"  # Your generated App Password\n",
    "RECEIVER_EMAIL = \"gurugs250000@gmail.com\"  # Recipient's email\n"
   ]
  },
  {
   "cell_type": "code",
   "execution_count": 8,
   "id": "0dd0c646-bad7-418c-b54a-de55cb53127e",
   "metadata": {},
   "outputs": [],
   "source": [
    "# Email Subject & Body\n",
    "subject = \"Automated Email from Python\"\n",
    "body = \"Hello! This is an automated email sent using Python in Jupyter Notebook. 🚀\"\n",
    "\n",
    "# Create Message\n",
    "msg = MIMEMultipart()\n",
    "msg[\"From\"] = SENDER_EMAIL\n",
    "msg[\"To\"] = RECEIVER_EMAIL\n",
    "msg[\"Subject\"] = subject\n",
    "\n",
    "# Attach the body\n",
    "msg.attach(MIMEText(body, \"plain\"))\n"
   ]
  },
  {
   "cell_type": "code",
   "execution_count": 10,
   "id": "5df23c87-7ec8-42fa-a7e8-8eca0a0b5d78",
   "metadata": {},
   "outputs": [
    {
     "name": "stdout",
     "output_type": "stream",
     "text": [
      "✅ Email sent successfully!\n"
     ]
    }
   ],
   "source": [
    "try:\n",
    "    # Connect to the Gmail SMTP Server\n",
    "    server = smtplib.SMTP(\"smtp.gmail.com\", 587)\n",
    "    server.starttls()  # Secure connection\n",
    "\n",
    "    # Login to Gmail\n",
    "    server.login(SENDER_EMAIL, SENDER_PASSWORD)\n",
    "\n",
    "    # Send Email\n",
    "    server.sendmail(SENDER_EMAIL, RECEIVER_EMAIL, msg.as_string())\n",
    "\n",
    "    # Close Connection\n",
    "    server.quit()\n",
    "\n",
    "    print(\"✅ Email sent successfully!\")\n",
    "\n",
    "except Exception as e:\n",
    "    print(f\"❌ Error: {e}\")\n"
   ]
  },
  {
   "cell_type": "code",
   "execution_count": null,
   "id": "26858bce-f916-4bbb-9268-6d475a44f979",
   "metadata": {},
   "outputs": [],
   "source": []
  },
  {
   "cell_type": "code",
   "execution_count": null,
   "id": "508f4812-f633-445d-ae8f-2c45f449f363",
   "metadata": {},
   "outputs": [],
   "source": []
  },
  {
   "cell_type": "code",
   "execution_count": null,
   "id": "fece514c-4f17-47e3-a74a-87ec5c0687c8",
   "metadata": {},
   "outputs": [],
   "source": []
  }
 ],
 "metadata": {
  "kernelspec": {
   "display_name": "Python 3 (ipykernel)",
   "language": "python",
   "name": "python3"
  },
  "language_info": {
   "codemirror_mode": {
    "name": "ipython",
    "version": 3
   },
   "file_extension": ".py",
   "mimetype": "text/x-python",
   "name": "python",
   "nbconvert_exporter": "python",
   "pygments_lexer": "ipython3",
   "version": "3.12.7"
  }
 },
 "nbformat": 4,
 "nbformat_minor": 5
}
